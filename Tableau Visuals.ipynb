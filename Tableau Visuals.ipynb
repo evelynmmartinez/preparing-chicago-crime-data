{
 "cells": [
  {
   "cell_type": "markdown",
   "id": "415e8be4",
   "metadata": {},
   "source": [
    "# Tableau Link to Visuals"
   ]
  },
  {
   "cell_type": "markdown",
   "id": "e1a665c6",
   "metadata": {},
   "source": [
    "https://public.tableau.com/views/CrimesinChicago2/PrimaryDashboard-CrimesChicago?:language=en-US&publish=yes&:display_count=n&:origin=viz_share_link"
   ]
  }
 ],
 "metadata": {
  "kernelspec": {
   "display_name": "Python (dojo-env)",
   "language": "python",
   "name": "dojo-env"
  },
  "language_info": {
   "codemirror_mode": {
    "name": "ipython",
    "version": 3
   },
   "file_extension": ".py",
   "mimetype": "text/x-python",
   "name": "python",
   "nbconvert_exporter": "python",
   "pygments_lexer": "ipython3",
   "version": "3.9.15"
  },
  "toc": {
   "base_numbering": "",
   "nav_menu": {},
   "number_sections": false,
   "sideBar": true,
   "skip_h1_title": false,
   "title_cell": "Table of Contents",
   "title_sidebar": "Contents",
   "toc_cell": false,
   "toc_position": {},
   "toc_section_display": true,
   "toc_window_display": true
  }
 },
 "nbformat": 4,
 "nbformat_minor": 5
}
